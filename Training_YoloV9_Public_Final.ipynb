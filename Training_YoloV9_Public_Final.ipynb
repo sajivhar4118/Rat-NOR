{
  "cells": [
    {
      "cell_type": "markdown",
      "metadata": {
        "id": "view-in-github",
        "colab_type": "text"
      },
      "source": [
        "<a href=\"https://colab.research.google.com/github/sajivhar4118/Rat-NOR/blob/main/Training_YoloV9_Public_Final.ipynb\" target=\"_parent\"><img src=\"https://colab.research.google.com/assets/colab-badge.svg\" alt=\"Open In Colab\"/></a>"
      ]
    },
    {
      "cell_type": "markdown",
      "metadata": {
        "id": "DQjdUKvQigN2"
      },
      "source": [
        "# Train and Run YOLOv9 on a Custom Dataset\n",
        "#### Change file paths and programs as needed"
      ]
    },
    {
      "cell_type": "markdown",
      "metadata": {
        "id": "m09A8n4djDwY"
      },
      "source": [
        "## Before you start\n",
        "\n",
        "Let's make sure that we have access to GPU. We can use `nvidia-smi` command to do that. In case of any problems navigate to `Edit` -> `Notebook settings` -> `Hardware accelerator`, set it to `GPU`, and then click `Save`."
      ]
    },
    {
      "cell_type": "code",
      "execution_count": null,
      "metadata": {
        "id": "_5hX88yficL7"
      },
      "outputs": [],
      "source": [
        "!nvidia-smi"
      ]
    },
    {
      "cell_type": "markdown",
      "metadata": {
        "id": "UTprsNjHja4l"
      },
      "source": [
        "**NOTE:** To make it easier for us to manage datasets, images and models we create a `HOME` constant."
      ]
    },
    {
      "cell_type": "code",
      "execution_count": null,
      "metadata": {
        "id": "rowKDIT-jJ9k"
      },
      "outputs": [],
      "source": [
        "import os\n",
        "HOME = os.getcwd()\n",
        "print(HOME)"
      ]
    },
    {
      "cell_type": "markdown",
      "metadata": {
        "id": "qWRGGT7Zjjbq"
      },
      "source": [
        "## Clone and Install"
      ]
    },
    {
      "cell_type": "markdown",
      "metadata": {
        "id": "9WyY-fboBLZB"
      },
      "source": [
        "**NOTE:** YOLOv9 is very new. At the moment, we recommend using a fork of the main repository. The `detect.py` script contains a bug that prevents inference. This bug is patched in the fork."
      ]
    },
    {
      "cell_type": "code",
      "execution_count": null,
      "metadata": {
        "id": "pixgo4qnjdoU"
      },
      "outputs": [],
      "source": [
        "!git clone https://github.com/SkalskiP/yolov9.git\n",
        "%cd yolov9\n",
        "!pip install -r requirements.txt -q"
      ]
    },
    {
      "cell_type": "markdown",
      "metadata": {
        "id": "bcx7KoNzqpgz"
      },
      "source": [
        "**NOTE:** Let's install the [`roboflow`](https://pypi.org/project/roboflow) package, which we will use to download our dataset from [Roboflow Universe](https://universe.roboflow.com/)."
      ]
    },
    {
      "cell_type": "markdown",
      "source": [],
      "metadata": {
        "id": "2QnrrXO-FXoP"
      }
    },
    {
      "cell_type": "code",
      "execution_count": null,
      "metadata": {
        "id": "TPGqlohQqgAO"
      },
      "outputs": [],
      "source": [
        "!pip install -q roboflow"
      ]
    },
    {
      "cell_type": "markdown",
      "metadata": {
        "id": "X8oLIkX2l2P0"
      },
      "source": [
        "## Download model weights"
      ]
    },
    {
      "cell_type": "markdown",
      "metadata": {
        "id": "0FieRuZnB4wH"
      },
      "source": [
        "**NOTE:** In the YOLOv9 paper, versions `yolov9-s` and `yolov9-m` are also mentioned, but the weights for these models are not yet available in the YOLOv9 [repository](https://github.com/WongKinYiu/yolov9)."
      ]
    },
    {
      "cell_type": "code",
      "execution_count": null,
      "metadata": {
        "id": "h7j3aUE7l1Je"
      },
      "outputs": [],
      "source": [
        "!wget -P {HOME}/weights -q https://github.com/WongKinYiu/yolov9/releases/download/v0.1/yolov9-c.pt\n",
        "!wget -P {HOME}/weights -q https://github.com/WongKinYiu/yolov9/releases/download/v0.1/yolov9-e.pt\n",
        "!wget -P {HOME}/weights -q https://github.com/WongKinYiu/yolov9/releases/download/v0.1/gelan-c.pt\n",
        "!wget -P {HOME}/weights -q https://github.com/WongKinYiu/yolov9/releases/download/v0.1/gelan-e.pt"
      ]
    },
    {
      "cell_type": "code",
      "execution_count": null,
      "metadata": {
        "id": "Au6np1JS8eRB"
      },
      "outputs": [],
      "source": [
        "!ls -la {HOME}/weights"
      ]
    },
    {
      "cell_type": "markdown",
      "metadata": {
        "id": "D7fZKrxsq_td"
      },
      "source": [
        "## Authenticate and Download the Dataset"
      ]
    },
    {
      "cell_type": "markdown",
      "metadata": {
        "id": "J5yx2GkI2P7Q"
      },
      "source": [
        "**NOTE:** The dataset must be saved inside the `{HOME}/yolov9` directory, otherwise, the training will not succeed."
      ]
    },
    {
      "cell_type": "code",
      "execution_count": null,
      "metadata": {
        "id": "MyLpftfU2Q1U"
      },
      "outputs": [],
      "source": [
        "%cd {HOME}/yolov9"
      ]
    },
    {
      "cell_type": "code",
      "execution_count": null,
      "metadata": {
        "id": "4J3s_2_7p_gn"
      },
      "outputs": [],
      "source": [
        "!pip install roboflow\n",
        "\n",
        "\n",
        "#SNIPPIT FROM ROBOFLOW GOES HERE! Sample provided below:\n",
        "\n",
        "from roboflow import Roboflow\n",
        "rf = Roboflow(api_key=\"**************\")\n",
        "project = rf.workspace(\"ratnor\").project(\"rat_nor\")\n",
        "version = project.version(6)\n",
        "dataset = version.download(\"yolov9\")\n"
      ]
    },
    {
      "cell_type": "markdown",
      "metadata": {
        "id": "CTbGpF2IsZ24"
      },
      "source": [
        "## Train Custom Model"
      ]
    },
    {
      "cell_type": "code",
      "execution_count": null,
      "metadata": {
        "id": "N68Bdf4FsMYW"
      },
      "outputs": [],
      "source": [
        "%cd {HOME}/yolov9\n",
        "\n",
        "!python train.py \\\n",
        "--batch 16 --epochs 100 --img 480 --device 0 --min-items 0 --close-mosaic 15 \\\n",
        "--data /content/yolov9/RAT_NOR-6/data.yaml \\\n",
        "--weights {HOME}/weights/gelan-c.pt \\\n",
        "--cfg /content/yolov9/models/detect/gelan-c.yaml \\\n",
        "--hyp hyp.scratch-high.yaml\n",
        "\n",
        "\n"
      ]
    },
    {
      "cell_type": "markdown",
      "metadata": {
        "id": "rHsMq7wc3bve"
      },
      "source": [
        "**NOTE:** By default, the results of each subsequent training sessions are saved in `{HOME}/yolov9/runs/train/`, in directories named `exp`, `exp2`, `exp3`, ... You can override this behavior by using the `--name` parameter."
      ]
    },
    {
      "cell_type": "code",
      "execution_count": null,
      "metadata": {
        "colab": {
          "base_uri": "https://localhost:8080/"
        },
        "id": "WslwgMAW2Euc",
        "outputId": "193fd1b2-429a-4efb-b94d-7661223c99c5"
      },
      "outputs": [
        {
          "name": "stdout",
          "output_type": "stream",
          "text": [
            "exp  exp2\n"
          ]
        }
      ],
      "source": [
        "!ls {HOME}/yolov9/runs/train/"
      ]
    },
    {
      "cell_type": "markdown",
      "source": [
        "### DOWNLOAD THE \"Best.pt\" file for future use! It saves time and GPU resources."
      ],
      "metadata": {
        "id": "FJwhS4dv3ZEI"
      }
    },
    {
      "cell_type": "markdown",
      "metadata": {
        "id": "ih1rk9O_4CYG"
      },
      "source": [
        "## Validate Custom Model"
      ]
    },
    {
      "cell_type": "code",
      "execution_count": null,
      "metadata": {
        "id": "XoZv8kNE4NxS"
      },
      "outputs": [],
      "source": [
        "%cd {HOME}/yolov9\n",
        "\n",
        "!python val.py \\\n",
        "--img 640 --batch 32 --conf 0.001 --iou 0.7 --device 0 \\\n",
        "--data {dataset.location}/data.yaml \\\n",
        "--weights {HOME}/yolov9/runs/train/exp4/weights/best.pt"
      ]
    },
    {
      "cell_type": "markdown",
      "metadata": {
        "id": "qJJ5fiqT6mEq"
      },
      "source": [
        "## Inference with Custom Model"
      ]
    },
    {
      "cell_type": "code",
      "execution_count": null,
      "metadata": {
        "id": "8vnrn9cwIsUs",
        "collapsed": true
      },
      "outputs": [],
      "source": [
        "!python detect.py \\\n",
        "--img 480 --conf 0.5 --device 0 \\\n",
        "--weights /content/best.pt \\\n",
        "--source \"/content/videos\" \\\n",
        "--save-txt"
      ]
    },
    {
      "cell_type": "code",
      "source": [
        "import os\n",
        "import csv\n",
        "import re\n",
        "\n",
        "# Define screen dimensions\n",
        "SCREEN_WIDTH = 852\n",
        "SCREEN_HEIGHT = 480\n",
        "\n",
        "# Function to convert relative coordinates to pixels\n",
        "def to_pixel_coords(relative_x, relative_y):\n",
        "    pixel_x = round(relative_x * SCREEN_WIDTH)\n",
        "    pixel_y = round(relative_y * SCREEN_HEIGHT)\n",
        "    return pixel_x, pixel_y\n",
        "\n",
        "# Directory containing the text files\n",
        "labels_dir = \"/content/yolov9/runs/detect/exp5/labels\"\n",
        "\n",
        "# Directory where the CSV files will be saved\n",
        "output_dir = \"/content/csv/\"\n",
        "os.makedirs(output_dir, exist_ok=True)  # Create the directory if it doesn't exist\n",
        "\n",
        "# Loop over the range of sets (1 to 18)\n",
        "for i in range(1, 19):\n",
        "    # Create the output CSV file for this set\n",
        "    output_file = os.path.join(output_dir, f\"video_frames_R{i}.csv\")\n",
        "\n",
        "    # Create a list to store (frame_number, file_path) tuples\n",
        "    frame_files = []\n",
        "\n",
        "    # Process each text file\n",
        "    for filename in os.listdir(labels_dir):\n",
        "        if filename.startswith(f\"NOR10_Acq_R{i}\") and filename.endswith(\".txt\"):\n",
        "            # Extract frame number from the end of the filename (digits before .txt)\n",
        "            match = re.search(r'_(\\d+)\\.txt$', filename)\n",
        "            if match:\n",
        "                frame_number = int(match.group(1))  # Extract the frame number as an integer\n",
        "                file_path = os.path.join(labels_dir, filename)\n",
        "                frame_files.append((frame_number, file_path))\n",
        "\n",
        "    # Sort the frame files by frame number\n",
        "    frame_files.sort(key=lambda x: x[0])\n",
        "\n",
        "    # Write header to the CSV file\n",
        "    with open(output_file, mode='w', newline='') as csvfile:\n",
        "        csvwriter = csv.writer(csvfile)\n",
        "        csvwriter.writerow([\"frame_number\", \"br_x\", \"br_y\", \"tl_x\", \"tl_y\"])\n",
        "\n",
        "        # Process sorted files\n",
        "        for frame_number, file_path in frame_files:\n",
        "            # Read the coordinates from the file\n",
        "            with open(file_path, 'r') as f:\n",
        "                lines = f.readlines()\n",
        "\n",
        "                # Make sure there are enough lines to avoid index errors\n",
        "                if len(lines) >= 2:\n",
        "                    br_data = lines[0].split()\n",
        "                    tl_data = lines[1].split()\n",
        "\n",
        "                    # Extract relative coordinates\n",
        "                    br_relative_x = float(br_data[1])\n",
        "                    br_relative_y = float(br_data[2])\n",
        "                    tl_relative_x = float(tl_data[1])\n",
        "                    tl_relative_y = float(tl_data[2])\n",
        "\n",
        "                    # Convert coordinates to pixels\n",
        "                    br_x, br_y = to_pixel_coords(br_relative_x, br_relative_y)\n",
        "                    tl_x, tl_y = to_pixel_coords(tl_relative_x, tl_relative_y)\n",
        "\n",
        "                    # Write to CSV\n",
        "                    csvwriter.writerow([frame_number, br_x, br_y, tl_x, tl_y])\n",
        "\n",
        "    print(f\"CSV file created: {output_file}\")\n"
      ],
      "metadata": {
        "id": "lcizEmW1neHJ"
      },
      "execution_count": null,
      "outputs": []
    },
    {
      "cell_type": "markdown",
      "source": [
        "### Download ALL the CSVs to your computer for futher processing\n"
      ],
      "metadata": {
        "id": "LcJCppwe3qHD"
      }
    },
    {
      "cell_type": "markdown",
      "source": [
        "### Move on the next and final step: [Final-Data-Processing](https:https://github.com/sajivhar4118/Rat-NOR/blob/432363e24c67a7f3741660968ca048508be3c954/Final_Processing.md//)"
      ],
      "metadata": {
        "id": "NbQOkMXUtob3"
      }
    }
  ],
  "metadata": {
    "colab": {
      "provenance": [],
      "gpuType": "T4",
      "include_colab_link": true
    },
    "kernelspec": {
      "display_name": "Python 3",
      "name": "python3"
    },
    "language_info": {
      "name": "python"
    },
    "accelerator": "GPU"
  },
  "nbformat": 4,
  "nbformat_minor": 0
}